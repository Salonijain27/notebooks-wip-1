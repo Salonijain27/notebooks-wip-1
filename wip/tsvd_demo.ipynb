{
 "cells": [
  {
   "cell_type": "code",
   "execution_count": 1,
   "metadata": {},
   "outputs": [],
   "source": [
    "import numpy as np\n",
    "import pandas as pd\n",
    "from sklearn.decomposition import TruncatedSVD as skTSVD\n",
    "from cuml import TruncatedSVD as cumlTSVD\n",
    "import cudf\n",
    "import os"
   ]
  },
  {
   "cell_type": "markdown",
   "metadata": {},
   "source": [
    "# Helper Functions"
   ]
  },
  {
   "cell_type": "code",
   "execution_count": 2,
   "metadata": {},
   "outputs": [],
   "source": [
    "from timeit import default_timer\n",
    "\n",
    "class Timer(object):\n",
    "    def __init__(self):\n",
    "        self._timer = default_timer\n",
    "    \n",
    "    def __enter__(self):\n",
    "        self.start()\n",
    "        return self\n",
    "\n",
    "    def __exit__(self, *args):\n",
    "        self.stop()\n",
    "\n",
    "    def start(self):\n",
    "        \"\"\"Start the timer.\"\"\"\n",
    "        self.start = self._timer()\n",
    "\n",
    "    def stop(self):\n",
    "        \"\"\"Stop the timer. Calculate the interval in seconds.\"\"\"\n",
    "        self.end = self._timer()\n",
    "        self.interval = self.end - self.start"
   ]
  },
  {
   "cell_type": "code",
   "execution_count": 3,
   "metadata": {},
   "outputs": [],
   "source": [
    "# check if mortgage dataset is present and then extract the data from it, else throw an error\n",
    "import gzip\n",
    "# change the path of the mortgage dataset if you have saved it in a different directory\n",
    "def load_data(nrows, ncols, cached = '/rapids/notebooks/wip/notebooks/cuml/data/mortgage.npy.gz'):\n",
    "    train_rows = int(nrows*0.8)\n",
    "    if os.path.exists(cached):\n",
    "        print('use mortgage data')\n",
    "        with gzip.open(cached) as f:\n",
    "            X = np.load(f)\n",
    "        # the 4th column is 'adj_remaining_months_to_maturity'\n",
    "        # used as the label\n",
    "        X = X[:,[i for i in range(X.shape[1]) if i!=4]]\n",
    "        y = X[:,4:5]\n",
    "        rindices = np.random.randint(0,X.shape[0]-1,nrows)\n",
    "        X = X[rindices,:]\n",
    "    else:\n",
    "        # raise an exception if the dataset is not present\n",
    "        raise FileNotFoundError('Please download the required dataset or check the path')\n",
    "    df_X_train = pd.DataFrame({'fea%d'%i:X[0:train_rows,i] for i in range(X.shape[1])})\n",
    "    df_X_test = pd.DataFrame({'fea%d'%i:X[train_rows:,i] for i in range(X.shape[1])})    \n",
    "    return df_X_train, df_X_test"
   ]
  },
  {
   "cell_type": "code",
   "execution_count": 4,
   "metadata": {},
   "outputs": [],
   "source": [
    "from sklearn.metrics import mean_squared_error\n",
    "def array_equal(a,b,threshold=5e-3,with_sign=True):\n",
    "    a = to_nparray(a)\n",
    "    b = to_nparray(b)\n",
    "    if with_sign == False:\n",
    "        a,b = np.abs(a),np.abs(b)\n",
    "    error = mean_squared_error(a,b)\n",
    "    res = error<threshold\n",
    "    return res\n",
    "\n",
    "def to_nparray(x):\n",
    "    if isinstance(x,np.ndarray) or isinstance(x,pd.DataFrame):\n",
    "        return np.array(x)\n",
    "    elif isinstance(x,np.float64):\n",
    "        return np.array([x])\n",
    "    elif isinstance(x,cudf.DataFrame) or isinstance(x,cudf.Series):\n",
    "        return x.to_pandas().values\n",
    "    return x"
   ]
  },
  {
   "cell_type": "markdown",
   "metadata": {},
   "source": [
    "# Run tests"
   ]
  },
  {
   "cell_type": "code",
   "execution_count": null,
   "metadata": {},
   "outputs": [
    {
     "name": "stdout",
     "output_type": "stream",
     "text": [
      "use mortgage data\n"
     ]
    }
   ],
   "source": [
    "%%time\n",
    "nrows = 2**22\n",
    "ncols = 40\n",
    "# split the data into 80/20 split where 80% of the data is set as the training data and the remaining 20% is set as the testing data\n",
    "X_train, X_test = load_data(nrows,ncols)\n",
    "print('training data',X_train.shape)\n",
    "print('testing data',X_test.shape)"
   ]
  },
  {
   "cell_type": "code",
   "execution_count": null,
   "metadata": {},
   "outputs": [],
   "source": [
    "n_components = 10\n",
    "random_state = 42"
   ]
  },
  {
   "cell_type": "code",
   "execution_count": null,
   "metadata": {},
   "outputs": [],
   "source": [
    "%%time\n",
    "algorithm='arpack'\n",
    "tsvd_sk = skTSVD(n_components=n_components,algorithm=algorithm, \n",
    "            random_state=random_state)\n",
    "ft_sk = tsvd_sk.fit(X_train)\n",
    "result_sk = tsvd_sk.transform(X_test)"
   ]
  },
  {
   "cell_type": "code",
   "execution_count": 11,
   "metadata": {},
   "outputs": [
    {
     "name": "stdout",
     "output_type": "stream",
     "text": [
      "CPU times: user 2.88 s, sys: 725 ms, total: 3.61 s\n",
      "Wall time: 3.64 s\n"
     ]
    }
   ],
   "source": [
    "%%time\n",
    "# convert the pandas dataframe to cudf format\n",
    "X_cudf = cudf.DataFrame.from_pandas(X_train)\n",
    "X_cudf_test = cudf.DataFrame.from_pandas(X_test)"
   ]
  },
  {
   "cell_type": "code",
   "execution_count": 12,
   "metadata": {},
   "outputs": [
    {
     "name": "stdout",
     "output_type": "stream",
     "text": [
      "CPU times: user 1.9 s, sys: 437 ms, total: 2.34 s\n",
      "Wall time: 2.35 s\n"
     ]
    }
   ],
   "source": [
    "%%time\n",
    "algorithm='full'\n",
    "tsvd_cuml = cumlTSVD(n_components=n_components,algorithm=algorithm, \n",
    "            random_state=random_state)\n",
    "ft_cuml = tsvd_cuml.fit(X_cudf)\n",
    "result_cuml = tsvd_cuml.transform(X_cudf_test)"
   ]
  },
  {
   "cell_type": "code",
   "execution_count": 13,
   "metadata": {},
   "outputs": [
    {
     "name": "stdout",
     "output_type": "stream",
     "text": [
      "compare tsvd: cuml vs sklearn          singular_values_ NOT equal\n",
      "compare tsvd: cuml vs sklearn               components_ equal\n",
      "compare tsvd: cuml vs sklearn       explained_variance_ equal\n",
      "compare tsvd: cuml vs sklearn explained_variance_ratio_ equal\n"
     ]
    }
   ],
   "source": [
    "for attr in ['singular_values_','components_','explained_variance_','explained_variance_ratio_']:\n",
    "    passed = array_equal(getattr(tsvd_sk,attr),getattr(tsvd_cuml,attr),threshold=0.1)\n",
    "    # larger error margin due to different algorithms: arpack vs full\n",
    "    message = 'compare tsvd: cuml vs sklearn {:>25} {}'.format(attr,'equal' if passed else 'NOT equal')\n",
    "    print(message)"
   ]
  },
  {
   "cell_type": "code",
   "execution_count": 14,
   "metadata": {},
   "outputs": [
    {
     "name": "stdout",
     "output_type": "stream",
     "text": [
      "compare tsvd: cuml vs sklearn transformed results equal\n"
     ]
    }
   ],
   "source": [
    "passed = array_equal(ft_sk,ft_cuml,threshold=0.1)\n",
    "# larger error margin due to different algorithms: arpack vs full\n",
    "message = 'compare tsvd: cuml vs sklearn transformed results %s'%('equal'if passed else 'NOT equal')\n",
    "print(message)"
   ]
  },
  {
   "cell_type": "code",
   "execution_count": 15,
   "metadata": {},
   "outputs": [
    {
     "data": {
      "text/plain": [
       "array([5114.5073 ,  907.3044 ,  613.96014,  511.64966,  401.87973,\n",
       "        384.82172,  319.4206 ,  277.6314 ,  276.33896,  274.1322 ],\n",
       "      dtype=float32)"
      ]
     },
     "execution_count": 15,
     "metadata": {},
     "output_type": "execute_result"
    }
   ],
   "source": [
    "tsvd_sk.singular_values_"
   ]
  },
  {
   "cell_type": "code",
   "execution_count": 16,
   "metadata": {},
   "outputs": [
    {
     "data": {
      "text/plain": [
       "array([5115.269  ,  907.222  ,  613.4173 ,  510.58362,  401.65436,\n",
       "        384.78455,  321.4075 ,  277.63147,  276.33966,  274.12833],\n",
       "      dtype=float32)"
      ]
     },
     "execution_count": 16,
     "metadata": {},
     "output_type": "execute_result"
    }
   ],
   "source": [
    "to_nparray(tsvd_cuml.singular_values_)\n"
   ]
  },
  {
   "cell_type": "code",
   "execution_count": 17,
   "metadata": {},
   "outputs": [
    {
     "data": {
      "text/plain": [
       "array([[ 2.19470486e-01,  7.78921172e-02,  5.55465557e-02, ...,\n",
       "         3.99304181e-02,  2.96212675e-04,  3.17021132e-01],\n",
       "       [ 9.43074655e-03, -5.59553243e-02,  3.31003904e-01, ...,\n",
       "         6.66118443e-01,  2.62557575e-03, -6.00367069e-01],\n",
       "       [ 9.11145732e-02,  5.09127900e-02,  9.90409479e-02, ...,\n",
       "         1.13879502e-01,  1.94298682e-05,  8.83277506e-03],\n",
       "       ...,\n",
       "       [ 4.35403734e-03, -5.04888222e-03, -1.11680925e-02, ...,\n",
       "         2.31409818e-03, -1.47589002e-04, -4.64289356e-03],\n",
       "       [-8.47651716e-03, -8.18580389e-04, -1.90659761e-02, ...,\n",
       "         5.16641140e-03, -2.78902473e-04, -7.70121813e-03],\n",
       "       [ 1.75419003e-02, -2.04888731e-02, -4.00457419e-02, ...,\n",
       "         7.91560858e-03, -6.20336505e-04, -1.93423331e-02]], dtype=float32)"
      ]
     },
     "execution_count": 17,
     "metadata": {},
     "output_type": "execute_result"
    }
   ],
   "source": [
    "tsvd_sk.components_"
   ]
  },
  {
   "cell_type": "code",
   "execution_count": 31,
   "metadata": {},
   "outputs": [
    {
     "data": {
      "text/plain": [
       "array([[ 2.1936791e-01,  7.7806652e-02,  5.5559669e-02, ...,\n",
       "         4.0003870e-02,  2.9826164e-04,  3.1691140e-01],\n",
       "       [ 9.2484560e-03, -5.5741414e-02,  3.3129090e-01, ...,\n",
       "         6.6603416e-01,  2.6420206e-03, -6.0014218e-01],\n",
       "       [ 9.1495402e-02,  5.1946219e-02,  9.9573754e-02, ...,\n",
       "         1.1555344e-01,  1.0178168e-04,  8.6729219e-03],\n",
       "       ...,\n",
       "       [-7.3127989e-03,  2.5826369e-03, -1.8156429e-03, ...,\n",
       "         1.3518544e-03, -4.1741019e-05, -4.7096619e-04],\n",
       "       [-2.8143590e-03, -5.9185773e-03, -2.5262371e-02, ...,\n",
       "         6.0600182e-03, -3.9165979e-04, -1.0809118e-02],\n",
       "       [ 2.2940703e-02, -2.2529401e-02, -3.8742151e-02, ...,\n",
       "         6.5671760e-03, -6.2616915e-04, -1.8944427e-02]], dtype=float32)"
      ]
     },
     "execution_count": 31,
     "metadata": {},
     "output_type": "execute_result"
    }
   ],
   "source": [
    "to_nparray(tsvd_cuml.components_)"
   ]
  },
  {
   "cell_type": "code",
   "execution_count": 49,
   "metadata": {},
   "outputs": [
    {
     "ename": "AssertionError",
     "evalue": "\nArrays are not almost equal to 1 decimals\n\n(mismatch 50.0%)\n x: array([5424.6,  962.2,  653.1,  542.7,  426.7,  407.8,  339.1,  294.9,\n        293.8,  291.2], dtype=float32)\n y: array([5425.3,  962. ,  652.4,  541.9,  426.3,  407.7,  340.9,  294.9,\n        293.8,  291.2], dtype=float32)",
     "output_type": "error",
     "traceback": [
      "\u001b[0;31m---------------------------------------------------------------------------\u001b[0m",
      "\u001b[0;31mAssertionError\u001b[0m                            Traceback (most recent call last)",
      "\u001b[0;32m<ipython-input-49-49077d793b1b>\u001b[0m in \u001b[0;36m<module>\u001b[0;34m\u001b[0m\n\u001b[1;32m      1\u001b[0m \u001b[0;32mfrom\u001b[0m \u001b[0msklearn\u001b[0m\u001b[0;34m.\u001b[0m\u001b[0mutils\u001b[0m\u001b[0;34m.\u001b[0m\u001b[0mtesting\u001b[0m \u001b[0;32mimport\u001b[0m \u001b[0;34m(\u001b[0m\u001b[0massert_array_almost_equal\u001b[0m\u001b[0;34m,\u001b[0m \u001b[0massert_equal\u001b[0m\u001b[0;34m)\u001b[0m\u001b[0;34m\u001b[0m\u001b[0;34m\u001b[0m\u001b[0m\n\u001b[0;32m----> 2\u001b[0;31m \u001b[0massert_array_almost_equal\u001b[0m\u001b[0;34m(\u001b[0m\u001b[0mtsvd_sk\u001b[0m\u001b[0;34m.\u001b[0m\u001b[0msingular_values_\u001b[0m\u001b[0;34m,\u001b[0m \u001b[0mto_nparray\u001b[0m\u001b[0;34m(\u001b[0m\u001b[0mtsvd_cuml\u001b[0m\u001b[0;34m.\u001b[0m\u001b[0msingular_values_\u001b[0m\u001b[0;34m)\u001b[0m\u001b[0;34m,\u001b[0m \u001b[0mdecimal\u001b[0m\u001b[0;34m=\u001b[0m\u001b[0;36m1\u001b[0m\u001b[0;34m)\u001b[0m\u001b[0;34m\u001b[0m\u001b[0;34m\u001b[0m\u001b[0m\n\u001b[0m",
      "\u001b[0;32m/conda/envs/rapids/lib/python3.7/site-packages/numpy/testing/_private/utils.py\u001b[0m in \u001b[0;36massert_array_almost_equal\u001b[0;34m(x, y, decimal, err_msg, verbose)\u001b[0m\n\u001b[1;32m    971\u001b[0m     assert_array_compare(compare, x, y, err_msg=err_msg, verbose=verbose,\n\u001b[1;32m    972\u001b[0m              \u001b[0mheader\u001b[0m\u001b[0;34m=\u001b[0m\u001b[0;34m(\u001b[0m\u001b[0;34m'Arrays are not almost equal to %d decimals'\u001b[0m \u001b[0;34m%\u001b[0m \u001b[0mdecimal\u001b[0m\u001b[0;34m)\u001b[0m\u001b[0;34m,\u001b[0m\u001b[0;34m\u001b[0m\u001b[0;34m\u001b[0m\u001b[0m\n\u001b[0;32m--> 973\u001b[0;31m              precision=decimal)\n\u001b[0m\u001b[1;32m    974\u001b[0m \u001b[0;34m\u001b[0m\u001b[0m\n\u001b[1;32m    975\u001b[0m \u001b[0;34m\u001b[0m\u001b[0m\n",
      "\u001b[0;32m/conda/envs/rapids/lib/python3.7/site-packages/numpy/testing/_private/utils.py\u001b[0m in \u001b[0;36massert_array_compare\u001b[0;34m(comparison, x, y, err_msg, verbose, header, precision, equal_nan, equal_inf)\u001b[0m\n\u001b[1;32m    787\u001b[0m                                 \u001b[0mverbose\u001b[0m\u001b[0;34m=\u001b[0m\u001b[0mverbose\u001b[0m\u001b[0;34m,\u001b[0m \u001b[0mheader\u001b[0m\u001b[0;34m=\u001b[0m\u001b[0mheader\u001b[0m\u001b[0;34m,\u001b[0m\u001b[0;34m\u001b[0m\u001b[0;34m\u001b[0m\u001b[0m\n\u001b[1;32m    788\u001b[0m                                 names=('x', 'y'), precision=precision)\n\u001b[0;32m--> 789\u001b[0;31m             \u001b[0;32mraise\u001b[0m \u001b[0mAssertionError\u001b[0m\u001b[0;34m(\u001b[0m\u001b[0mmsg\u001b[0m\u001b[0;34m)\u001b[0m\u001b[0;34m\u001b[0m\u001b[0;34m\u001b[0m\u001b[0m\n\u001b[0m\u001b[1;32m    790\u001b[0m     \u001b[0;32mexcept\u001b[0m \u001b[0mValueError\u001b[0m\u001b[0;34m:\u001b[0m\u001b[0;34m\u001b[0m\u001b[0;34m\u001b[0m\u001b[0m\n\u001b[1;32m    791\u001b[0m         \u001b[0;32mimport\u001b[0m \u001b[0mtraceback\u001b[0m\u001b[0;34m\u001b[0m\u001b[0;34m\u001b[0m\u001b[0m\n",
      "\u001b[0;31mAssertionError\u001b[0m: \nArrays are not almost equal to 1 decimals\n\n(mismatch 50.0%)\n x: array([5424.6,  962.2,  653.1,  542.7,  426.7,  407.8,  339.1,  294.9,\n        293.8,  291.2], dtype=float32)\n y: array([5425.3,  962. ,  652.4,  541.9,  426.3,  407.7,  340.9,  294.9,\n        293.8,  291.2], dtype=float32)"
     ]
    }
   ],
   "source": [
    "from sklearn.utils.testing import (assert_array_almost_equal, assert_equal)\n",
    "assert_array_almost_equal(tsvd_sk.singular_values_, to_nparray(tsvd_cuml.singular_values_), decimal=1)"
   ]
  },
  {
   "cell_type": "code",
   "execution_count": null,
   "metadata": {},
   "outputs": [],
   "source": []
  }
 ],
 "metadata": {
  "kernelspec": {
   "display_name": "Python 3",
   "language": "python",
   "name": "python3"
  },
  "language_info": {
   "codemirror_mode": {
    "name": "ipython",
    "version": 3
   },
   "file_extension": ".py",
   "mimetype": "text/x-python",
   "name": "python",
   "nbconvert_exporter": "python",
   "pygments_lexer": "ipython3",
   "version": "3.7.3"
  }
 },
 "nbformat": 4,
 "nbformat_minor": 2
}
